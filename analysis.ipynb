{
 "cells": [
  {
   "cell_type": "markdown",
   "id": "2fade343",
   "metadata": {},
   "source": [
    "# Market Sentiment & Crypto Trading Analysis\n",
    "this project analyzes the relationship between trader behavior and market sentiment using historical trade data and the Fear-Greed Index."
   ]
  },
  {
   "cell_type": "markdown",
   "id": "9977dc57",
   "metadata": {},
   "source": [
    "## 📂 Step 1: Load and Inspect Datasets\n",
    "\n",
    "We begin by loading the two datasets:\n",
    "\n",
    "- `historical_data.csv`: Contains account-level crypto trades, including timestamps, PnL, side (buy/sell), etc.\n",
    "- `fear_greed_index.csv`: Provides daily market sentiment values (e.g., Fear, Greed).\n",
    "\n",
    "We display the first few rows and basic information to understand the structure and check for any missing values."
   ]
  },
  {
   "cell_type": "code",
   "execution_count": null,
   "id": "71cd503b",
   "metadata": {},
   "outputs": [
    {
     "name": "stdout",
     "output_type": "stream",
     "text": [
      "Trader data preview\n"
     ]
    },
    {
     "data": {
      "text/html": [
       "<div>\n",
       "<style scoped>\n",
       "    .dataframe tbody tr th:only-of-type {\n",
       "        vertical-align: middle;\n",
       "    }\n",
       "\n",
       "    .dataframe tbody tr th {\n",
       "        vertical-align: top;\n",
       "    }\n",
       "\n",
       "    .dataframe thead th {\n",
       "        text-align: right;\n",
       "    }\n",
       "</style>\n",
       "<table border=\"1\" class=\"dataframe\">\n",
       "  <thead>\n",
       "    <tr style=\"text-align: right;\">\n",
       "      <th></th>\n",
       "      <th>Account</th>\n",
       "      <th>Coin</th>\n",
       "      <th>Execution Price</th>\n",
       "      <th>Size Tokens</th>\n",
       "      <th>Size USD</th>\n",
       "      <th>Side</th>\n",
       "      <th>Timestamp IST</th>\n",
       "      <th>Start Position</th>\n",
       "      <th>Direction</th>\n",
       "      <th>Closed PnL</th>\n",
       "      <th>Transaction Hash</th>\n",
       "      <th>Order ID</th>\n",
       "      <th>Crossed</th>\n",
       "      <th>Fee</th>\n",
       "      <th>Trade ID</th>\n",
       "      <th>Timestamp</th>\n",
       "    </tr>\n",
       "  </thead>\n",
       "  <tbody>\n",
       "    <tr>\n",
       "      <th>0</th>\n",
       "      <td>0xae5eacaf9c6b9111fd53034a602c192a04e082ed</td>\n",
       "      <td>@107</td>\n",
       "      <td>7.9769</td>\n",
       "      <td>986.87</td>\n",
       "      <td>7872.16</td>\n",
       "      <td>BUY</td>\n",
       "      <td>02-12-2024 22:50</td>\n",
       "      <td>0.000000</td>\n",
       "      <td>Buy</td>\n",
       "      <td>0.0</td>\n",
       "      <td>0xec09451986a1874e3a980418412fcd0201f500c95bac...</td>\n",
       "      <td>52017706630</td>\n",
       "      <td>True</td>\n",
       "      <td>0.345404</td>\n",
       "      <td>8.950000e+14</td>\n",
       "      <td>1.730000e+12</td>\n",
       "    </tr>\n",
       "    <tr>\n",
       "      <th>1</th>\n",
       "      <td>0xae5eacaf9c6b9111fd53034a602c192a04e082ed</td>\n",
       "      <td>@107</td>\n",
       "      <td>7.9800</td>\n",
       "      <td>16.00</td>\n",
       "      <td>127.68</td>\n",
       "      <td>BUY</td>\n",
       "      <td>02-12-2024 22:50</td>\n",
       "      <td>986.524596</td>\n",
       "      <td>Buy</td>\n",
       "      <td>0.0</td>\n",
       "      <td>0xec09451986a1874e3a980418412fcd0201f500c95bac...</td>\n",
       "      <td>52017706630</td>\n",
       "      <td>True</td>\n",
       "      <td>0.005600</td>\n",
       "      <td>4.430000e+14</td>\n",
       "      <td>1.730000e+12</td>\n",
       "    </tr>\n",
       "    <tr>\n",
       "      <th>2</th>\n",
       "      <td>0xae5eacaf9c6b9111fd53034a602c192a04e082ed</td>\n",
       "      <td>@107</td>\n",
       "      <td>7.9855</td>\n",
       "      <td>144.09</td>\n",
       "      <td>1150.63</td>\n",
       "      <td>BUY</td>\n",
       "      <td>02-12-2024 22:50</td>\n",
       "      <td>1002.518996</td>\n",
       "      <td>Buy</td>\n",
       "      <td>0.0</td>\n",
       "      <td>0xec09451986a1874e3a980418412fcd0201f500c95bac...</td>\n",
       "      <td>52017706630</td>\n",
       "      <td>True</td>\n",
       "      <td>0.050431</td>\n",
       "      <td>6.600000e+14</td>\n",
       "      <td>1.730000e+12</td>\n",
       "    </tr>\n",
       "    <tr>\n",
       "      <th>3</th>\n",
       "      <td>0xae5eacaf9c6b9111fd53034a602c192a04e082ed</td>\n",
       "      <td>@107</td>\n",
       "      <td>7.9874</td>\n",
       "      <td>142.98</td>\n",
       "      <td>1142.04</td>\n",
       "      <td>BUY</td>\n",
       "      <td>02-12-2024 22:50</td>\n",
       "      <td>1146.558564</td>\n",
       "      <td>Buy</td>\n",
       "      <td>0.0</td>\n",
       "      <td>0xec09451986a1874e3a980418412fcd0201f500c95bac...</td>\n",
       "      <td>52017706630</td>\n",
       "      <td>True</td>\n",
       "      <td>0.050043</td>\n",
       "      <td>1.080000e+15</td>\n",
       "      <td>1.730000e+12</td>\n",
       "    </tr>\n",
       "    <tr>\n",
       "      <th>4</th>\n",
       "      <td>0xae5eacaf9c6b9111fd53034a602c192a04e082ed</td>\n",
       "      <td>@107</td>\n",
       "      <td>7.9894</td>\n",
       "      <td>8.73</td>\n",
       "      <td>69.75</td>\n",
       "      <td>BUY</td>\n",
       "      <td>02-12-2024 22:50</td>\n",
       "      <td>1289.488521</td>\n",
       "      <td>Buy</td>\n",
       "      <td>0.0</td>\n",
       "      <td>0xec09451986a1874e3a980418412fcd0201f500c95bac...</td>\n",
       "      <td>52017706630</td>\n",
       "      <td>True</td>\n",
       "      <td>0.003055</td>\n",
       "      <td>1.050000e+15</td>\n",
       "      <td>1.730000e+12</td>\n",
       "    </tr>\n",
       "  </tbody>\n",
       "</table>\n",
       "</div>"
      ],
      "text/plain": [
       "                                      Account  Coin  Execution Price  \\\n",
       "0  0xae5eacaf9c6b9111fd53034a602c192a04e082ed  @107           7.9769   \n",
       "1  0xae5eacaf9c6b9111fd53034a602c192a04e082ed  @107           7.9800   \n",
       "2  0xae5eacaf9c6b9111fd53034a602c192a04e082ed  @107           7.9855   \n",
       "3  0xae5eacaf9c6b9111fd53034a602c192a04e082ed  @107           7.9874   \n",
       "4  0xae5eacaf9c6b9111fd53034a602c192a04e082ed  @107           7.9894   \n",
       "\n",
       "   Size Tokens  Size USD Side     Timestamp IST  Start Position Direction  \\\n",
       "0       986.87   7872.16  BUY  02-12-2024 22:50        0.000000       Buy   \n",
       "1        16.00    127.68  BUY  02-12-2024 22:50      986.524596       Buy   \n",
       "2       144.09   1150.63  BUY  02-12-2024 22:50     1002.518996       Buy   \n",
       "3       142.98   1142.04  BUY  02-12-2024 22:50     1146.558564       Buy   \n",
       "4         8.73     69.75  BUY  02-12-2024 22:50     1289.488521       Buy   \n",
       "\n",
       "   Closed PnL                                   Transaction Hash     Order ID  \\\n",
       "0         0.0  0xec09451986a1874e3a980418412fcd0201f500c95bac...  52017706630   \n",
       "1         0.0  0xec09451986a1874e3a980418412fcd0201f500c95bac...  52017706630   \n",
       "2         0.0  0xec09451986a1874e3a980418412fcd0201f500c95bac...  52017706630   \n",
       "3         0.0  0xec09451986a1874e3a980418412fcd0201f500c95bac...  52017706630   \n",
       "4         0.0  0xec09451986a1874e3a980418412fcd0201f500c95bac...  52017706630   \n",
       "\n",
       "   Crossed       Fee      Trade ID     Timestamp  \n",
       "0     True  0.345404  8.950000e+14  1.730000e+12  \n",
       "1     True  0.005600  4.430000e+14  1.730000e+12  \n",
       "2     True  0.050431  6.600000e+14  1.730000e+12  \n",
       "3     True  0.050043  1.080000e+15  1.730000e+12  \n",
       "4     True  0.003055  1.050000e+15  1.730000e+12  "
      ]
     },
     "metadata": {},
     "output_type": "display_data"
    },
    {
     "name": "stdout",
     "output_type": "stream",
     "text": [
      "Sentiment data preview\n"
     ]
    },
    {
     "data": {
      "text/html": [
       "<div>\n",
       "<style scoped>\n",
       "    .dataframe tbody tr th:only-of-type {\n",
       "        vertical-align: middle;\n",
       "    }\n",
       "\n",
       "    .dataframe tbody tr th {\n",
       "        vertical-align: top;\n",
       "    }\n",
       "\n",
       "    .dataframe thead th {\n",
       "        text-align: right;\n",
       "    }\n",
       "</style>\n",
       "<table border=\"1\" class=\"dataframe\">\n",
       "  <thead>\n",
       "    <tr style=\"text-align: right;\">\n",
       "      <th></th>\n",
       "      <th>timestamp</th>\n",
       "      <th>value</th>\n",
       "      <th>classification</th>\n",
       "      <th>date</th>\n",
       "    </tr>\n",
       "  </thead>\n",
       "  <tbody>\n",
       "    <tr>\n",
       "      <th>0</th>\n",
       "      <td>1517463000</td>\n",
       "      <td>30</td>\n",
       "      <td>Fear</td>\n",
       "      <td>2018-02-01</td>\n",
       "    </tr>\n",
       "    <tr>\n",
       "      <th>1</th>\n",
       "      <td>1517549400</td>\n",
       "      <td>15</td>\n",
       "      <td>Extreme Fear</td>\n",
       "      <td>2018-02-02</td>\n",
       "    </tr>\n",
       "    <tr>\n",
       "      <th>2</th>\n",
       "      <td>1517635800</td>\n",
       "      <td>40</td>\n",
       "      <td>Fear</td>\n",
       "      <td>2018-02-03</td>\n",
       "    </tr>\n",
       "    <tr>\n",
       "      <th>3</th>\n",
       "      <td>1517722200</td>\n",
       "      <td>24</td>\n",
       "      <td>Extreme Fear</td>\n",
       "      <td>2018-02-04</td>\n",
       "    </tr>\n",
       "    <tr>\n",
       "      <th>4</th>\n",
       "      <td>1517808600</td>\n",
       "      <td>11</td>\n",
       "      <td>Extreme Fear</td>\n",
       "      <td>2018-02-05</td>\n",
       "    </tr>\n",
       "  </tbody>\n",
       "</table>\n",
       "</div>"
      ],
      "text/plain": [
       "    timestamp  value classification        date\n",
       "0  1517463000     30           Fear  2018-02-01\n",
       "1  1517549400     15   Extreme Fear  2018-02-02\n",
       "2  1517635800     40           Fear  2018-02-03\n",
       "3  1517722200     24   Extreme Fear  2018-02-04\n",
       "4  1517808600     11   Extreme Fear  2018-02-05"
      ]
     },
     "metadata": {},
     "output_type": "display_data"
    },
    {
     "name": "stdout",
     "output_type": "stream",
     "text": [
      "Trader data shape  (211224, 16)\n",
      "Sentiment data shape (2644, 4)\n",
      "\n",
      "Trader data column\n",
      " Index(['Account', 'Coin', 'Execution Price', 'Size Tokens', 'Size USD', 'Side',\n",
      "       'Timestamp IST', 'Start Position', 'Direction', 'Closed PnL',\n",
      "       'Transaction Hash', 'Order ID', 'Crossed', 'Fee', 'Trade ID',\n",
      "       'Timestamp'],\n",
      "      dtype='object')\n",
      "\n",
      "Sentiment data columns\n",
      " Index(['timestamp', 'value', 'classification', 'date'], dtype='object')\n",
      "\n",
      "Missing values in sentiment data\n",
      " timestamp         0\n",
      "value             0\n",
      "classification    0\n",
      "date              0\n",
      "dtype: int64\n"
     ]
    }
   ],
   "source": [
    "import pandas as pd\n",
    "\n",
    "#loading datasets\n",
    "trader_df = pd.read_csv(\"historical_data.csv\")\n",
    "sentiment_df = pd.read_csv(\"fear_greed_index.csv\")\n",
    "\n",
    "#showing top 5 rows\n",
    "print(\"Trader data preview\")\n",
    "display(trader_df.head())\n",
    "\n",
    "print(\"Sentiment data preview\")\n",
    "display(sentiment_df.head())\n",
    "\n",
    "print(\"Trader data shape \" , trader_df.shape)\n",
    "print(\"Sentiment data shape\",sentiment_df.shape)\n",
    "\n",
    "print(\"\\nTrader data column\\n\", trader_df.columns)\n",
    "print(\"\\nSentiment data columns\\n\", sentiment_df.columns)\n",
    "\n",
    "#checking missing values \n",
    "print(\"\\nMissing values in Trader data\\n\",trader_df.isnull().sum())\n",
    "print(\"\\nMissing values in sentiment data\\n\",sentiment_df.isnull().sum())\n",
    "\n"
   ]
  },
  {
   "cell_type": "markdown",
   "id": "a1196a37",
   "metadata": {},
   "source": [
    "- The trading dataset contains 211,224 rows with detailed trading information.\n",
    "- The sentiment dataset provides daily labels such as \"Extreme Greed\", \"Fear\", etc.\n",
    "- Both datasets have no missing values."
   ]
  },
  {
   "cell_type": "markdown",
   "id": "fdd249b0",
   "metadata": {},
   "source": [
    "## 🔗 Step 2: Merge Sentiment with Trader Data\n",
    "\n",
    "To analyze how market sentiment impacts trading behavior, we need to combine both datasets based on date:\n",
    "\n",
    "- Convert `Timestamp IST` in `trader_df` to a proper date format.\n",
    "- Align it with the `date` column from the sentiment dataset.\n",
    "- Perform a **left join**, keeping all trader records and attaching sentiment labels for matching dates.\n",
    "\n",
    "Below is a preview of the merged dataset, including:\n",
    "- The trade date\n",
    "- Account address\n",
    "- Side (BUY/SELL)\n",
    "- Closed Profit & Loss (PnL)\n",
    "- Corresponding market sentiment (e.g., Extreme Greed)\n",
    "\n",
    "This merge enables all future analysis by tying each trade to the market mood on that day.\n"
   ]
  },
  {
   "cell_type": "code",
   "execution_count": 12,
   "id": "ae0a6516",
   "metadata": {},
   "outputs": [
    {
     "name": "stdout",
     "output_type": "stream",
     "text": [
      "Merged data preview :\n"
     ]
    },
    {
     "data": {
      "text/html": [
       "<div>\n",
       "<style scoped>\n",
       "    .dataframe tbody tr th:only-of-type {\n",
       "        vertical-align: middle;\n",
       "    }\n",
       "\n",
       "    .dataframe tbody tr th {\n",
       "        vertical-align: top;\n",
       "    }\n",
       "\n",
       "    .dataframe thead th {\n",
       "        text-align: right;\n",
       "    }\n",
       "</style>\n",
       "<table border=\"1\" class=\"dataframe\">\n",
       "  <thead>\n",
       "    <tr style=\"text-align: right;\">\n",
       "      <th></th>\n",
       "      <th>Date</th>\n",
       "      <th>Account</th>\n",
       "      <th>Side</th>\n",
       "      <th>Closed PnL</th>\n",
       "      <th>classification</th>\n",
       "    </tr>\n",
       "  </thead>\n",
       "  <tbody>\n",
       "    <tr>\n",
       "      <th>0</th>\n",
       "      <td>2024-12-02</td>\n",
       "      <td>0xae5eacaf9c6b9111fd53034a602c192a04e082ed</td>\n",
       "      <td>BUY</td>\n",
       "      <td>0.0</td>\n",
       "      <td>Extreme Greed</td>\n",
       "    </tr>\n",
       "    <tr>\n",
       "      <th>1</th>\n",
       "      <td>2024-12-02</td>\n",
       "      <td>0xae5eacaf9c6b9111fd53034a602c192a04e082ed</td>\n",
       "      <td>BUY</td>\n",
       "      <td>0.0</td>\n",
       "      <td>Extreme Greed</td>\n",
       "    </tr>\n",
       "    <tr>\n",
       "      <th>2</th>\n",
       "      <td>2024-12-02</td>\n",
       "      <td>0xae5eacaf9c6b9111fd53034a602c192a04e082ed</td>\n",
       "      <td>BUY</td>\n",
       "      <td>0.0</td>\n",
       "      <td>Extreme Greed</td>\n",
       "    </tr>\n",
       "    <tr>\n",
       "      <th>3</th>\n",
       "      <td>2024-12-02</td>\n",
       "      <td>0xae5eacaf9c6b9111fd53034a602c192a04e082ed</td>\n",
       "      <td>BUY</td>\n",
       "      <td>0.0</td>\n",
       "      <td>Extreme Greed</td>\n",
       "    </tr>\n",
       "    <tr>\n",
       "      <th>4</th>\n",
       "      <td>2024-12-02</td>\n",
       "      <td>0xae5eacaf9c6b9111fd53034a602c192a04e082ed</td>\n",
       "      <td>BUY</td>\n",
       "      <td>0.0</td>\n",
       "      <td>Extreme Greed</td>\n",
       "    </tr>\n",
       "  </tbody>\n",
       "</table>\n",
       "</div>"
      ],
      "text/plain": [
       "         Date                                     Account Side  Closed PnL  \\\n",
       "0  2024-12-02  0xae5eacaf9c6b9111fd53034a602c192a04e082ed  BUY         0.0   \n",
       "1  2024-12-02  0xae5eacaf9c6b9111fd53034a602c192a04e082ed  BUY         0.0   \n",
       "2  2024-12-02  0xae5eacaf9c6b9111fd53034a602c192a04e082ed  BUY         0.0   \n",
       "3  2024-12-02  0xae5eacaf9c6b9111fd53034a602c192a04e082ed  BUY         0.0   \n",
       "4  2024-12-02  0xae5eacaf9c6b9111fd53034a602c192a04e082ed  BUY         0.0   \n",
       "\n",
       "  classification  \n",
       "0  Extreme Greed  \n",
       "1  Extreme Greed  \n",
       "2  Extreme Greed  \n",
       "3  Extreme Greed  \n",
       "4  Extreme Greed  "
      ]
     },
     "metadata": {},
     "output_type": "display_data"
    },
    {
     "name": "stdout",
     "output_type": "stream",
     "text": [
      "(211224, 21)\n"
     ]
    }
   ],
   "source": [
    "trader_df['Date'] = pd.to_datetime(trader_df['Timestamp IST'],format='%d-%m-%Y %H:%M').dt.date\n",
    "sentiment_df['date'] = pd.to_datetime(sentiment_df['date']).dt.date\n",
    "\n",
    "merged_df = pd.merge(trader_df,sentiment_df,how='left',left_on='Date',right_on='date')\n",
    "\n",
    "print(\"Merged data preview :\")\n",
    "display(merged_df[['Date', 'Account', 'Side', 'Closed PnL', 'classification']].head())\n",
    "print(merged_df.shape)"
   ]
  },
  {
   "cell_type": "markdown",
   "id": "b1efc5d9",
   "metadata": {},
   "source": [
    "# Convert timestamp strings to date objects\n",
    "trader_df['Date'] = pd.to_datetime(trader_df['Timestamp IST'], format='%d-%m-%Y %H:%M').dt.date\n",
    "sentiment_df['date'] = pd.to_datetime(sentiment_df['date']).dt.date\n",
    "\n",
    "# Merge sentiment data with trader data on date\n",
    "merged_df = pd.merge(trader_df, sentiment_df, how='left', left_on='Date', right_on='date')\n",
    "\n",
    "# Show preview\n",
    "display(merged_df[['Date', 'Account', 'Side', 'Closed PnL', 'classification']].head())\n"
   ]
  },
  {
   "cell_type": "markdown",
   "id": "eb5e3f7f",
   "metadata": {},
   "source": [
    "## 🧼 Step 3: Check for Missing Sentiment Labels\n",
    "\n",
    "Before performing analysis, we verify how many trades don't have a corresponding sentiment classification after merging.\n",
    "\n",
    "- This helps ensure our analysis won't be biased by missing data.\n",
    "- The result shows that only a **very small fraction of trades (0.00%)** are missing sentiment labels — which is acceptable.\n",
    "\n",
    "This gives us confidence to move forward with the merged dataset.\n"
   ]
  },
  {
   "cell_type": "code",
   "execution_count": 13,
   "id": "03888b20",
   "metadata": {},
   "outputs": [
    {
     "name": "stdout",
     "output_type": "stream",
     "text": [
      "Missing sentiment labels: 6 out of 211224 (0.00%)\n",
      "None\n"
     ]
    }
   ],
   "source": [
    "missing = merged_df['classification'].isna().sum()\n",
    "total = len(merged_df)\n",
    "print(print(f\"Missing sentiment labels: {missing} out of {total} ({missing/total:.2%})\"))"
   ]
  },
  {
   "cell_type": "code",
   "execution_count": 14,
   "id": "2563d251",
   "metadata": {},
   "outputs": [],
   "source": [
    "merged_df = merged_df.dropna(subset=['classification'])"
   ]
  },
  {
   "cell_type": "markdown",
   "id": "fde8c6e8",
   "metadata": {},
   "source": [
    "## 📊 Step 4: PnL Summary by Market Sentiment\n",
    "\n",
    "We analyze how trader profits and losses vary across different sentiment conditions.\n",
    "\n",
    "This summary includes:\n",
    "- Number of trades\n",
    "- Average profit/loss per trade\n",
    "- Total cumulative PnL\n",
    "\n",
    "This helps answer: *Do traders generally perform better during Fear, Greed, or Neutral markets?*\n"
   ]
  },
  {
   "cell_type": "code",
   "execution_count": 15,
   "id": "79cfd298",
   "metadata": {},
   "outputs": [
    {
     "name": "stdout",
     "output_type": "stream",
     "text": [
      "📊 Trader PnL by Market Sentiment:\n"
     ]
    },
    {
     "data": {
      "text/html": [
       "<div>\n",
       "<style scoped>\n",
       "    .dataframe tbody tr th:only-of-type {\n",
       "        vertical-align: middle;\n",
       "    }\n",
       "\n",
       "    .dataframe tbody tr th {\n",
       "        vertical-align: top;\n",
       "    }\n",
       "\n",
       "    .dataframe thead th {\n",
       "        text-align: right;\n",
       "    }\n",
       "</style>\n",
       "<table border=\"1\" class=\"dataframe\">\n",
       "  <thead>\n",
       "    <tr style=\"text-align: right;\">\n",
       "      <th></th>\n",
       "      <th>classification</th>\n",
       "      <th>count</th>\n",
       "      <th>mean</th>\n",
       "      <th>sum</th>\n",
       "    </tr>\n",
       "  </thead>\n",
       "  <tbody>\n",
       "    <tr>\n",
       "      <th>0</th>\n",
       "      <td>Extreme Fear</td>\n",
       "      <td>21400</td>\n",
       "      <td>34.537862</td>\n",
       "      <td>7.391102e+05</td>\n",
       "    </tr>\n",
       "    <tr>\n",
       "      <th>1</th>\n",
       "      <td>Extreme Greed</td>\n",
       "      <td>39992</td>\n",
       "      <td>67.892861</td>\n",
       "      <td>2.715171e+06</td>\n",
       "    </tr>\n",
       "    <tr>\n",
       "      <th>2</th>\n",
       "      <td>Fear</td>\n",
       "      <td>61837</td>\n",
       "      <td>54.290400</td>\n",
       "      <td>3.357155e+06</td>\n",
       "    </tr>\n",
       "    <tr>\n",
       "      <th>3</th>\n",
       "      <td>Greed</td>\n",
       "      <td>50303</td>\n",
       "      <td>42.743559</td>\n",
       "      <td>2.150129e+06</td>\n",
       "    </tr>\n",
       "    <tr>\n",
       "      <th>4</th>\n",
       "      <td>Neutral</td>\n",
       "      <td>37686</td>\n",
       "      <td>34.307718</td>\n",
       "      <td>1.292921e+06</td>\n",
       "    </tr>\n",
       "  </tbody>\n",
       "</table>\n",
       "</div>"
      ],
      "text/plain": [
       "  classification  count       mean           sum\n",
       "0   Extreme Fear  21400  34.537862  7.391102e+05\n",
       "1  Extreme Greed  39992  67.892861  2.715171e+06\n",
       "2           Fear  61837  54.290400  3.357155e+06\n",
       "3          Greed  50303  42.743559  2.150129e+06\n",
       "4        Neutral  37686  34.307718  1.292921e+06"
      ]
     },
     "metadata": {},
     "output_type": "display_data"
    }
   ],
   "source": [
    "# Convert PnL to numeric if needed\n",
    "merged_df['Closed PnL'] = pd.to_numeric(merged_df['Closed PnL'], errors='coerce')\n",
    "\n",
    "# Group and summarize\n",
    "pnl_by_sentiment = merged_df.groupby('classification')['Closed PnL'].agg(['count', 'mean', 'sum']).reset_index()\n",
    "\n",
    "print(\"📊 Trader PnL by Market Sentiment:\")\n",
    "display(pnl_by_sentiment)\n"
   ]
  },
  {
   "cell_type": "markdown",
   "id": "f4747e4b",
   "metadata": {},
   "source": [
    "### 📊 PnL by Sentiment – Key Insights\n",
    "\n",
    "- **Extreme Greed** shows the highest average PnL per trade (~67.89).\n",
    "- **Fear** has the most trades, indicating high market activity.\n",
    "- **Neutral** sentiment yields the lowest average and total PnL.\n",
    "- Traders seem to profit more in **greedy** markets, but still find opportunity in **fearful** ones.\n"
   ]
  },
  {
   "cell_type": "code",
   "execution_count": 16,
   "id": "7c30d48f",
   "metadata": {},
   "outputs": [],
   "source": [
    "import seaborn as sns\n",
    "import matplotlib.pyplot as plt"
   ]
  },
  {
   "cell_type": "code",
   "execution_count": null,
   "id": "5a270d12",
   "metadata": {},
   "outputs": [
    {
     "name": "stderr",
     "output_type": "stream",
     "text": [
      "C:\\Users\\HP\\AppData\\Local\\Temp\\ipykernel_12120\\1439476394.py:5: FutureWarning: \n",
      "\n",
      "Passing `palette` without assigning `hue` is deprecated and will be removed in v0.14.0. Assign the `x` variable to `hue` and set `legend=False` for the same effect.\n",
      "\n",
      "  sns.barplot(data=pnl_by_sentiment, x='classification', y='mean', palette='coolwarm')\n",
      "C:\\Users\\HP\\AppData\\Local\\Temp\\ipykernel_12120\\1439476394.py:11: UserWarning: Glyph 128200 (\\N{CHART WITH UPWARDS TREND}) missing from font(s) DejaVu Sans.\n",
      "  plt.tight_layout()\n",
      "C:\\Users\\HP\\AppData\\Roaming\\Python\\Python312\\site-packages\\IPython\\core\\pylabtools.py:170: UserWarning: Glyph 128200 (\\N{CHART WITH UPWARDS TREND}) missing from font(s) DejaVu Sans.\n",
      "  fig.canvas.print_figure(bytes_io, **kw)\n"
     ]
    },
    {
     "data": {
      "image/png": "[encoded data removed]",
      "text/plain": [
       "<Figure size 1000x500 with 1 Axes>"
      ]
     },
     "metadata": {},
     "output_type": "display_data"
    }
   ],
   "source": [
    "import seaborn as sns\n",
    "import matplotlib.pyplot as plt\n",
    "\n",
    "plt.figure(figsize=(10, 5))\n",
    "sns.barplot(data=pnl_by_sentiment, x='classification', y='mean', palette='coolwarm')\n",
    "plt.title('Average Trader PnL by Market Sentiment')\n",
    "plt.xlabel('Market Sentiment')\n",
    "plt.ylabel('Average Closed PnL')\n",
    "plt.xticks(rotation=45)\n",
    "plt.grid(True)\n",
    "plt.tight_layout()\n",
    "plt.show()\n"
   ]
  },
  {
   "cell_type": "markdown",
   "id": "f482e13a",
   "metadata": {},
   "source": [
    "### 📈 Visualization: Average PnL by Market Sentiment\n",
    "\n",
    "- **Extreme Greed** leads to the highest average PnL.\n",
    "- **Fear** and **Greed** also show strong performance.\n",
    "- **Neutral** markets yield the lowest returns.\n",
    "- Trader performance appears sentiment-sensitive, with **Greed-driven markets** being most profitable.\n"
   ]
  },
  {
   "cell_type": "code",
   "execution_count": 18,
   "id": "8cfef3ec",
   "metadata": {},
   "outputs": [
    {
     "data": {
      "text/html": [
       "<div>\n",
       "<style scoped>\n",
       "    .dataframe tbody tr th:only-of-type {\n",
       "        vertical-align: middle;\n",
       "    }\n",
       "\n",
       "    .dataframe tbody tr th {\n",
       "        vertical-align: top;\n",
       "    }\n",
       "\n",
       "    .dataframe thead th {\n",
       "        text-align: right;\n",
       "    }\n",
       "</style>\n",
       "<table border=\"1\" class=\"dataframe\">\n",
       "  <thead>\n",
       "    <tr style=\"text-align: right;\">\n",
       "      <th></th>\n",
       "      <th>Sentiment</th>\n",
       "      <th>Win Rate</th>\n",
       "    </tr>\n",
       "  </thead>\n",
       "  <tbody>\n",
       "    <tr>\n",
       "      <th>0</th>\n",
       "      <td>Extreme Fear</td>\n",
       "      <td>0.370607</td>\n",
       "    </tr>\n",
       "    <tr>\n",
       "      <th>1</th>\n",
       "      <td>Extreme Greed</td>\n",
       "      <td>0.464943</td>\n",
       "    </tr>\n",
       "    <tr>\n",
       "      <th>2</th>\n",
       "      <td>Fear</td>\n",
       "      <td>0.420768</td>\n",
       "    </tr>\n",
       "    <tr>\n",
       "      <th>3</th>\n",
       "      <td>Greed</td>\n",
       "      <td>0.384828</td>\n",
       "    </tr>\n",
       "    <tr>\n",
       "      <th>4</th>\n",
       "      <td>Neutral</td>\n",
       "      <td>0.396991</td>\n",
       "    </tr>\n",
       "  </tbody>\n",
       "</table>\n",
       "</div>"
      ],
      "text/plain": [
       "       Sentiment  Win Rate\n",
       "0   Extreme Fear  0.370607\n",
       "1  Extreme Greed  0.464943\n",
       "2           Fear  0.420768\n",
       "3          Greed  0.384828\n",
       "4        Neutral  0.396991"
      ]
     },
     "metadata": {},
     "output_type": "display_data"
    }
   ],
   "source": [
    "merged_df['is_profitable'] = merged_df['Closed PnL'] > 0\n",
    "\n",
    "win_rate_by_sentiment = merged_df.groupby('classification')['is_profitable'].mean().reset_index()\n",
    "win_rate_by_sentiment.columns = ['Sentiment', 'Win Rate']\n",
    "display(win_rate_by_sentiment)\n"
   ]
  },
  {
   "cell_type": "markdown",
   "id": "e77b09a4",
   "metadata": {},
   "source": [
    "### ✅ Win Rate by Market Sentiment\n",
    "\n",
    "- This table shows the percentage of profitable trades (`Win Rate`) under different market sentiments.\n",
    "- **Extreme Greed** had the highest win rate at **46.49%**, suggesting traders were most successful during overly optimistic market conditions.\n",
    "- **Extreme Fear** had the lowest win rate at **37.06%**, indicating tougher conditions for profitability.\n",
    "- These insights help understand how sentiment influences trader behavior and success.\n"
   ]
  },
  {
   "cell_type": "code",
   "execution_count": 19,
   "id": "4f8e956a",
   "metadata": {},
   "outputs": [
    {
     "name": "stderr",
     "output_type": "stream",
     "text": [
      "C:\\Users\\HP\\AppData\\Local\\Temp\\ipykernel_12120\\3693516925.py:5: FutureWarning: \n",
      "\n",
      "Passing `palette` without assigning `hue` is deprecated and will be removed in v0.14.0. Assign the `x` variable to `hue` and set `legend=False` for the same effect.\n",
      "\n",
      "  sns.barplot(data=win_rate_by_sentiment, x='Sentiment', y='Win Rate', palette='coolwarm')\n"
     ]
    },
    {
     "data": {
      "image/png": "[encoded data removed]",
      "text/plain": [
       "<Figure size 800x500 with 1 Axes>"
      ]
     },
     "metadata": {},
     "output_type": "display_data"
    }
   ],
   "source": [
    "import seaborn as sns\n",
    "import matplotlib.pyplot as plt\n",
    "\n",
    "plt.figure(figsize=(8, 5))\n",
    "sns.barplot(data=win_rate_by_sentiment, x='Sentiment', y='Win Rate', palette='coolwarm')\n",
    "plt.title(\"Win Rate by Market Sentiment\")\n",
    "plt.ylabel(\"Win Rate (Proportion of Profitable Trades)\")\n",
    "plt.ylim(0, 1)\n",
    "plt.grid(True, linestyle='--', alpha=0.5)\n",
    "plt.tight_layout()\n",
    "plt.show()\n"
   ]
  },
  {
   "cell_type": "code",
   "execution_count": 20,
   "id": "53b9dbe9",
   "metadata": {},
   "outputs": [
    {
     "data": {
      "text/html": [
       "<div>\n",
       "<style scoped>\n",
       "    .dataframe tbody tr th:only-of-type {\n",
       "        vertical-align: middle;\n",
       "    }\n",
       "\n",
       "    .dataframe tbody tr th {\n",
       "        vertical-align: top;\n",
       "    }\n",
       "\n",
       "    .dataframe thead th {\n",
       "        text-align: right;\n",
       "    }\n",
       "</style>\n",
       "<table border=\"1\" class=\"dataframe\">\n",
       "  <thead>\n",
       "    <tr style=\"text-align: right;\">\n",
       "      <th></th>\n",
       "      <th>Sentiment</th>\n",
       "      <th>Average PnL</th>\n",
       "    </tr>\n",
       "  </thead>\n",
       "  <tbody>\n",
       "    <tr>\n",
       "      <th>0</th>\n",
       "      <td>Extreme Fear</td>\n",
       "      <td>34.537862</td>\n",
       "    </tr>\n",
       "    <tr>\n",
       "      <th>1</th>\n",
       "      <td>Extreme Greed</td>\n",
       "      <td>67.892861</td>\n",
       "    </tr>\n",
       "    <tr>\n",
       "      <th>2</th>\n",
       "      <td>Fear</td>\n",
       "      <td>54.290400</td>\n",
       "    </tr>\n",
       "    <tr>\n",
       "      <th>3</th>\n",
       "      <td>Greed</td>\n",
       "      <td>42.743559</td>\n",
       "    </tr>\n",
       "    <tr>\n",
       "      <th>4</th>\n",
       "      <td>Neutral</td>\n",
       "      <td>34.307718</td>\n",
       "    </tr>\n",
       "  </tbody>\n",
       "</table>\n",
       "</div>"
      ],
      "text/plain": [
       "       Sentiment  Average PnL\n",
       "0   Extreme Fear    34.537862\n",
       "1  Extreme Greed    67.892861\n",
       "2           Fear    54.290400\n",
       "3          Greed    42.743559\n",
       "4        Neutral    34.307718"
      ]
     },
     "metadata": {},
     "output_type": "display_data"
    }
   ],
   "source": [
    "avg_pnl = merged_df.groupby('classification')['Closed PnL'].mean().reset_index()\n",
    "avg_pnl.columns = ['Sentiment', 'Average PnL']\n",
    "display(avg_pnl)\n"
   ]
  },
  {
   "cell_type": "markdown",
   "id": "57c2fe79",
   "metadata": {},
   "source": [
    "### 📈 Average Profit and Loss (PnL) by Market Sentiment\n",
    "\n",
    "This table shows the average PnL per trade across different market sentiments:\n",
    "\n",
    "- 💰 **Extreme Greed** leads with the highest average PnL (~67.89), suggesting that traders tend to make the most money during euphoric market phases.\n",
    "- 😨 **Fear** and **Greed** follow with decent average PnLs, reflecting solid performance during emotionally charged but opportunistic phases.\n",
    "- 😐 **Neutral** and **Extreme Fear** show the lowest average PnLs (~34), indicating more conservative or less successful trading during uncertain or fearful periods.\n",
    "\n",
    "This highlights that peak optimism often aligns with higher profitability, potentially due to more aggressive and confident trading behavior.\n"
   ]
  },
  {
   "cell_type": "code",
   "execution_count": 21,
   "id": "06585742",
   "metadata": {},
   "outputs": [
    {
     "data": {
      "text/html": [
       "<div>\n",
       "<style scoped>\n",
       "    .dataframe tbody tr th:only-of-type {\n",
       "        vertical-align: middle;\n",
       "    }\n",
       "\n",
       "    .dataframe tbody tr th {\n",
       "        vertical-align: top;\n",
       "    }\n",
       "\n",
       "    .dataframe thead th {\n",
       "        text-align: right;\n",
       "    }\n",
       "</style>\n",
       "<table border=\"1\" class=\"dataframe\">\n",
       "  <thead>\n",
       "    <tr style=\"text-align: right;\">\n",
       "      <th></th>\n",
       "      <th>Sentiment</th>\n",
       "      <th>PnL Volatility</th>\n",
       "    </tr>\n",
       "  </thead>\n",
       "  <tbody>\n",
       "    <tr>\n",
       "      <th>0</th>\n",
       "      <td>Extreme Fear</td>\n",
       "      <td>1136.056091</td>\n",
       "    </tr>\n",
       "    <tr>\n",
       "      <th>1</th>\n",
       "      <td>Extreme Greed</td>\n",
       "      <td>766.828294</td>\n",
       "    </tr>\n",
       "    <tr>\n",
       "      <th>2</th>\n",
       "      <td>Fear</td>\n",
       "      <td>935.355438</td>\n",
       "    </tr>\n",
       "    <tr>\n",
       "      <th>3</th>\n",
       "      <td>Greed</td>\n",
       "      <td>1116.028390</td>\n",
       "    </tr>\n",
       "    <tr>\n",
       "      <th>4</th>\n",
       "      <td>Neutral</td>\n",
       "      <td>517.122220</td>\n",
       "    </tr>\n",
       "  </tbody>\n",
       "</table>\n",
       "</div>"
      ],
      "text/plain": [
       "       Sentiment  PnL Volatility\n",
       "0   Extreme Fear     1136.056091\n",
       "1  Extreme Greed      766.828294\n",
       "2           Fear      935.355438\n",
       "3          Greed     1116.028390\n",
       "4        Neutral      517.122220"
      ]
     },
     "metadata": {},
     "output_type": "display_data"
    }
   ],
   "source": [
    "volatility = merged_df.groupby('classification')['Closed PnL'].std().reset_index()\n",
    "volatility.columns = ['Sentiment', 'PnL Volatility']\n",
    "display(volatility)\n"
   ]
  },
  {
   "cell_type": "markdown",
   "id": "b8aa7219",
   "metadata": {},
   "source": [
    "### 📊 PnL Volatility by Market Sentiment\n",
    "\n",
    "This table shows the standard deviation of profits and losses (PnL), indicating how much trader performance fluctuates under different market sentiments:\n",
    "\n",
    "- ⚠️ **Extreme Fear** has the **highest volatility** (~1136), suggesting highly unpredictable outcomes—potentially big gains or big losses.\n",
    "- 😬 **Greed** and **Fear** also show elevated volatility, pointing to increased risk during emotional trading phases.\n",
    "- ✅ **Neutral** sentiment exhibits the **lowest volatility** (~517), indicating relatively stable and consistent outcomes.\n",
    "\n",
    "Overall, this analysis reveals that emotional extremes (like fear and greed) correlate with more erratic trading results, highlighting the risk-reward trade-off during such periods.\n"
   ]
  },
  {
   "cell_type": "code",
   "execution_count": 22,
   "id": "9726533c",
   "metadata": {},
   "outputs": [
    {
     "data": {
      "text/html": [
       "<div>\n",
       "<style scoped>\n",
       "    .dataframe tbody tr th:only-of-type {\n",
       "        vertical-align: middle;\n",
       "    }\n",
       "\n",
       "    .dataframe tbody tr th {\n",
       "        vertical-align: top;\n",
       "    }\n",
       "\n",
       "    .dataframe thead th {\n",
       "        text-align: right;\n",
       "    }\n",
       "</style>\n",
       "<table border=\"1\" class=\"dataframe\">\n",
       "  <thead>\n",
       "    <tr style=\"text-align: right;\">\n",
       "      <th></th>\n",
       "      <th>Account</th>\n",
       "      <th>classification</th>\n",
       "      <th>Closed PnL</th>\n",
       "    </tr>\n",
       "  </thead>\n",
       "  <tbody>\n",
       "    <tr>\n",
       "      <th>46</th>\n",
       "      <td>0x430f09841d65beb3f27765503d0f850b8bce7713</td>\n",
       "      <td>Extreme Greed</td>\n",
       "      <td>8285.663252</td>\n",
       "    </tr>\n",
       "    <tr>\n",
       "      <th>39</th>\n",
       "      <td>0x3f9a0aadc7f04a7c9d75dc1b5a6ddd6e36486cf6</td>\n",
       "      <td>Neutral</td>\n",
       "      <td>4009.581548</td>\n",
       "    </tr>\n",
       "    <tr>\n",
       "      <th>44</th>\n",
       "      <td>0x420ab45e0bd8863569a5efbb9c05d91f40624641</td>\n",
       "      <td>Neutral</td>\n",
       "      <td>1547.784656</td>\n",
       "    </tr>\n",
       "    <tr>\n",
       "      <th>0</th>\n",
       "      <td>0x083384f897ee0f19899168e3b1bec365f52a9012</td>\n",
       "      <td>Extreme Fear</td>\n",
       "      <td>1247.692214</td>\n",
       "    </tr>\n",
       "    <tr>\n",
       "      <th>42</th>\n",
       "      <td>0x420ab45e0bd8863569a5efbb9c05d91f40624641</td>\n",
       "      <td>Fear</td>\n",
       "      <td>1016.819167</td>\n",
       "    </tr>\n",
       "    <tr>\n",
       "      <th>80</th>\n",
       "      <td>0x72c6a4624e1dffa724e6d00d64ceae698af892a0</td>\n",
       "      <td>Extreme Fear</td>\n",
       "      <td>900.002541</td>\n",
       "    </tr>\n",
       "    <tr>\n",
       "      <th>78</th>\n",
       "      <td>0x72743ae2822edd658c0c50608fd7c5c501b2afbd</td>\n",
       "      <td>Greed</td>\n",
       "      <td>764.916220</td>\n",
       "    </tr>\n",
       "    <tr>\n",
       "      <th>135</th>\n",
       "      <td>0xb1231a4a2dd02f2276fa3c5e2a2f3436e6bfed23</td>\n",
       "      <td>Extreme Greed</td>\n",
       "      <td>672.735763</td>\n",
       "    </tr>\n",
       "    <tr>\n",
       "      <th>2</th>\n",
       "      <td>0x083384f897ee0f19899168e3b1bec365f52a9012</td>\n",
       "      <td>Fear</td>\n",
       "      <td>626.194346</td>\n",
       "    </tr>\n",
       "    <tr>\n",
       "      <th>3</th>\n",
       "      <td>0x083384f897ee0f19899168e3b1bec365f52a9012</td>\n",
       "      <td>Greed</td>\n",
       "      <td>482.089321</td>\n",
       "    </tr>\n",
       "  </tbody>\n",
       "</table>\n",
       "</div>"
      ],
      "text/plain": [
       "                                        Account classification   Closed PnL\n",
       "46   0x430f09841d65beb3f27765503d0f850b8bce7713  Extreme Greed  8285.663252\n",
       "39   0x3f9a0aadc7f04a7c9d75dc1b5a6ddd6e36486cf6        Neutral  4009.581548\n",
       "44   0x420ab45e0bd8863569a5efbb9c05d91f40624641        Neutral  1547.784656\n",
       "0    0x083384f897ee0f19899168e3b1bec365f52a9012   Extreme Fear  1247.692214\n",
       "42   0x420ab45e0bd8863569a5efbb9c05d91f40624641           Fear  1016.819167\n",
       "80   0x72c6a4624e1dffa724e6d00d64ceae698af892a0   Extreme Fear   900.002541\n",
       "78   0x72743ae2822edd658c0c50608fd7c5c501b2afbd          Greed   764.916220\n",
       "135  0xb1231a4a2dd02f2276fa3c5e2a2f3436e6bfed23  Extreme Greed   672.735763\n",
       "2    0x083384f897ee0f19899168e3b1bec365f52a9012           Fear   626.194346\n",
       "3    0x083384f897ee0f19899168e3b1bec365f52a9012          Greed   482.089321"
      ]
     },
     "metadata": {},
     "output_type": "display_data"
    }
   ],
   "source": [
    "account_sentiment_perf = merged_df.groupby(['Account', 'classification'])['Closed PnL'].mean().reset_index()\n",
    "top_accounts = account_sentiment_perf.sort_values(by='Closed PnL', ascending=False).head(10)\n",
    "display(top_accounts)\n"
   ]
  },
  {
   "cell_type": "markdown",
   "id": "271f90bc",
   "metadata": {},
   "source": [
    "### 🏆 Top Performing Accounts by Sentiment\n",
    "\n",
    "The table above highlights the top 10 trader accounts with the highest average Closed PnL across different market sentiments. This helps identify which accounts capitalize best on specific market conditions.\n",
    "\n",
    "Key insights:\n",
    "- The highest average PnL was achieved under **Extreme Greed**.\n",
    "- Some accounts consistently perform well across multiple sentiment types.\n"
   ]
  },
  {
   "cell_type": "code",
   "execution_count": 23,
   "id": "5b9e2353",
   "metadata": {},
   "outputs": [
    {
     "data": {
      "image/png": "[encoded data removed]",
      "text/plain": [
       "<Figure size 1000x600 with 1 Axes>"
      ]
     },
     "metadata": {},
     "output_type": "display_data"
    }
   ],
   "source": [
    "plt.figure(figsize=(10,6))\n",
    "sns.boxplot(data=merged_df, x='classification', y='Start Position')  # change y if needed\n",
    "plt.title(\"Leverage Distribution by Sentiment\")\n",
    "plt.ylabel(\"Leverage (or proxy)\")\n",
    "plt.grid(True)\n",
    "plt.show()\n"
   ]
  },
  {
   "cell_type": "markdown",
   "id": "8f3bbb27",
   "metadata": {},
   "source": [
    "### 📦 Leverage Distribution by Market Sentiment\n",
    "\n",
    "The boxplot above shows the distribution of leverage (or its proxy variable `Start Position`) across different market sentiment categories.\n",
    "\n",
    "Key observations:\n",
    "- **Extreme Fear** and **Greed** display wider leverage distributions, indicating more aggressive or risk-tolerant strategies.\n",
    "- **Neutral** sentiment tends to cluster around lower leverage values, showing conservative trading behavior.\n"
   ]
  }
 ],
 "metadata": {
  "kernelspec": {
   "display_name": "Python 3",
   "language": "python",
   "name": "python3"
  },
  "language_info": {
   "codemirror_mode": {
    "name": "ipython",
    "version": 3
   },
   "file_extension": ".py",
   "mimetype": "text/x-python",
   "name": "python",
   "nbconvert_exporter": "python",
   "pygments_lexer": "ipython3",
   "version": "3.12.2"
  }
 },
 "nbformat": 4,
 "nbformat_minor": 5
}
